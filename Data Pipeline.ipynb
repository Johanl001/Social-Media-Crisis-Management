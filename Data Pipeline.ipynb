# Reddit auth and fetch

def _get_reddit_headers():
    client_id = os.getenv("REDDIT_CLIENT_ID")
    client_secret = os.getenv("REDDIT_CLIENT_SECRET")
    username = os.getenv("REDDIT_USERNAME")
    password = os.getenv("REDDIT_PASSWORD")
    user_agent = os.getenv("REDDIT_USER_AGENT", "mental_health_analysis_script/1.0")
    if not all([client_id, client_secret, username, password]):
        return None
    auth = requests.auth.HTTPBasicAuth(client_id, client_secret)
    data = {"grant_type": "password", "username": username, "password": password}
    headers = {"User-Agent": user_agent}
    res = requests.post("https://www.reddit.com/api/v1/access_token", auth=auth, data=data, headers=headers, timeout=30)
    if res.status_code != 200:
        return None
    token = res.json().get("access_token")
    return {**headers, **{"Authorization": f"bearer {token}"}}


def get_reddit_posts(keyword, limit=100):
    headers = _get_reddit_headers()
    if not headers:
        return []
    posts = []
    url = f"https://oauth.reddit.com/search?q={keyword}&sort=new&limit={limit}"
    response = requests.get(url, headers=headers, timeout=30)
    if response.status_code == 200:
        data = response.json()
        for post in data.get('data', {}).get('children', []):
            d = post.get('data', {})
            title = d.get('title', '') or ''
            selftext = d.get('selftext') or ''
            if any(kw.lower() in title.lower() or (selftext and kw.lower() in selftext.lower()) for kw in mental_health_keywords):
                posts.append({
                    'post_id': d.get('id'),
                    'timestamp': datetime.datetime.fromtimestamp(d.get('created_utc', 0)).strftime('%Y-%m-%d %H:%M:%S') if d.get('created_utc') else '',
                    'title': title,
                    'content': selftext,
                    'subreddit': d.get('subreddit', 'reddit'),
                    'upvotes': d.get('ups', 0),
                    'comments': d.get('num_comments', 0),
                    'url': f"https://www.reddit.com{d.get('permalink','')}"
                })
    return posts# Keywords
mental_health_keywords = [
    "depression", "depressed", "anxiety", "suicidal",
    "suicide", "addiction", "substance abuse", "overwhelmed",
    "hopeless", "self harm", "bipolar", "mental health",
    "therapy", "crisis", "panic attack"
]import os
import json
import re
import datetime
import requests
import pandas as pd
import nltk
from nltk.corpus import stopwords
from cleantext import clean
from dotenv import load_dotenv

# Setup
load_dotenv()
nltk.download('stopwords')
# Install dependencies
!pip install cleantext snscrape instagrapi python-dotenv requests pandas nltk