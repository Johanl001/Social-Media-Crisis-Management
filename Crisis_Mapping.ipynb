{
  "nbformat": 4,
  "nbformat_minor": 0,
  "metadata": {
    "colab": {
      "provenance": [],
      "authorship_tag": "ABX9TyN35voczB0WdytTm1NQg0t8",
      "include_colab_link": true
    },
    "kernelspec": {
      "name": "python3",
      "display_name": "Python 3"
    },
    "language_info": {
      "name": "python"
    }
  },
  "cells": [
    {
      "cell_type": "markdown",
      "metadata": {
        "id": "view-in-github",
        "colab_type": "text"
      },
      "source": [
        "<a href=\"https://colab.research.google.com/github/Johanl001/Social-Media-Crisis-Management/blob/main/Crisis_Mapping.ipynb\" target=\"_parent\"><img src=\"https://colab.research.google.com/assets/colab-badge.svg\" alt=\"Open In Colab\"/></a>"
      ]
    },
    {
      "cell_type": "code",
      "execution_count": 1,
      "metadata": {
        "colab": {
          "base_uri": "https://localhost:8080/"
        },
        "id": "HNGMmWLuqEgd",
        "outputId": "4a9f4065-ea22-4f71-db27-1208fe1602cd"
      },
      "outputs": [
        {
          "output_type": "stream",
          "name": "stdout",
          "text": [
            "Requirement already satisfied: geopy in /usr/local/lib/python3.11/dist-packages (2.4.1)\n",
            "Requirement already satisfied: geographiclib<3,>=1.52 in /usr/local/lib/python3.11/dist-packages (from geopy) (2.0)\n",
            "Requirement already satisfied: folium in /usr/local/lib/python3.11/dist-packages (0.20.0)\n",
            "Requirement already satisfied: branca>=0.6.0 in /usr/local/lib/python3.11/dist-packages (from folium) (0.8.1)\n",
            "Requirement already satisfied: jinja2>=2.9 in /usr/local/lib/python3.11/dist-packages (from folium) (3.1.6)\n",
            "Requirement already satisfied: numpy in /usr/local/lib/python3.11/dist-packages (from folium) (2.0.2)\n",
            "Requirement already satisfied: requests in /usr/local/lib/python3.11/dist-packages (from folium) (2.32.3)\n",
            "Requirement already satisfied: xyzservices in /usr/local/lib/python3.11/dist-packages (from folium) (2025.4.0)\n",
            "Requirement already satisfied: MarkupSafe>=2.0 in /usr/local/lib/python3.11/dist-packages (from jinja2>=2.9->folium) (3.0.2)\n",
            "Requirement already satisfied: charset-normalizer<4,>=2 in /usr/local/lib/python3.11/dist-packages (from requests->folium) (3.4.2)\n",
            "Requirement already satisfied: idna<4,>=2.5 in /usr/local/lib/python3.11/dist-packages (from requests->folium) (3.10)\n",
            "Requirement already satisfied: urllib3<3,>=1.21.1 in /usr/local/lib/python3.11/dist-packages (from requests->folium) (2.5.0)\n",
            "Requirement already satisfied: certifi>=2017.4.17 in /usr/local/lib/python3.11/dist-packages (from requests->folium) (2025.8.3)\n"
          ]
        }
      ],
      "source": [
        "!pip install geopy\n",
        "!pip install folium"
      ]
    },
    {
      "cell_type": "code",
      "source": [
        "import pandas as pd\n",
        "import re\n",
        "from geopy.geocoders import Nominatim\n",
        "from geopy.exc import GeocoderTimedOut\n",
        "import folium\n",
        "from folium.plugins import HeatMap\n",
        "from collections import Counter\n",
        "\n",
        "# Loading the dataset made in task 2\n",
        "file_name = 'mental_health_posts_with_classification.csv'\n",
        "data = pd.read_csv(file_name)\n"
      ],
      "metadata": {
        "id": "4aRM4_Jfqcnp"
      },
      "execution_count": 2,
      "outputs": []
    },
    {
      "cell_type": "code",
      "source": [
        "# Initializing geolocator\n",
        "geolocator = Nominatim(user_agent=\"crisis_geo_locator\")\n",
        "\n",
        "def extract_location(text):\n",
        "    if not isinstance(text, str):\n",
        "        return None\n",
        "\n",
        "    #Applying Simple regex to identify place names (e.g., \"in Austin\")\n",
        "    match = re.search(r\"in ([A-Za-z\\s]+)\", text)\n",
        "    if match:\n",
        "        location = match.group(1).strip()\n",
        "        try:\n",
        "            geo_location = geolocator.geocode(location, timeout=10)\n",
        "            if geo_location:\n",
        "                return (geo_location.latitude, geo_location.longitude)\n",
        "        except GeocoderTimedOut:\n",
        "            return None\n",
        "    return None\n",
        "\n"
      ],
      "metadata": {
        "id": "anMFuvP4qgsw"
      },
      "execution_count": 3,
      "outputs": []
    },
    {
      "cell_type": "code",
      "source": [
        "#location extraction to content and title\n",
        "data['location'] = data.apply(lambda row: extract_location(str(row['content']) + ' ' + str(row['title'])), axis=1)\n",
        "\n",
        "# Filtering rows without location data\n",
        "data_with_location = data.dropna(subset=['location'])\n",
        "\n",
        "# Creating a list of locations for the heatmap\n",
        "locations = data_with_location['location'].tolist()\n",
        "\n",
        "# Creating a map centered on the mean coordinates\n",
        "center_lat = sum(loc[0] for loc in locations) / len(locations)\n",
        "center_lon = sum(loc[1] for loc in locations) / len(locations)\n",
        "crisis_map = folium.Map(location=[center_lat, center_lon], zoom_start=4)\n",
        "\n",
        "# Now, Adding a heatmap layer\n",
        "HeatMap(locations).add_to(crisis_map)\n",
        "\n",
        "# Finally, Saving the map\n",
        "crisis_map.save(\"crisis_heatmap.html\")"
      ],
      "metadata": {
        "id": "4o2ob-wkqjy6"
      },
      "execution_count": 4,
      "outputs": []
    },
    {
      "cell_type": "code",
      "source": [
        "# Count occurrences of each location\n",
        "location_counts = Counter(locations)\n",
        "\n",
        "# top 5 locations with highest crisis discussions\n",
        "top_5_locations = location_counts.most_common(5)\n",
        "\n",
        "print(\"Top 5 locations with highest crisis discussions:\")\n",
        "for location, count in top_5_locations:\n",
        "    print(f\"Coordinates: {location}, Count: {count}\")"
      ],
      "metadata": {
        "colab": {
          "base_uri": "https://localhost:8080/"
        },
        "id": "dhULCuWQqtkz",
        "outputId": "bf4ac6bc-1f71-4e96-ba9a-f018c258b1f6"
      },
      "execution_count": 5,
      "outputs": [
        {
          "output_type": "stream",
          "name": "stdout",
          "text": [
            "Top 5 locations with highest crisis discussions:\n",
            "Coordinates: (43.6606617, -79.3827952), Count: 10\n",
            "Coordinates: (43.5459909, -80.2495008), Count: 8\n",
            "Coordinates: (35.6145156, -88.4786605), Count: 7\n",
            "Coordinates: (52.4297987, 13.4781392), Count: 5\n",
            "Coordinates: (-1.2943004, 29.9170977), Count: 5\n"
          ]
        }
      ]
    },
    {
      "cell_type": "code",
      "source": [
        "# markers for top 5 locations\n",
        "for location, count in top_5_locations:\n",
        "    folium.Marker(\n",
        "        location=location,\n",
        "        popup=f\"Crisis discussions: {count}\",\n",
        "        icon=folium.Icon(color='red', icon='info-sign')\n",
        "    ).add_to(crisis_map)\n",
        "\n",
        "# Saving the updated map with markers for top locations\n",
        "crisis_map.save(\"crisis_heatmap_with_top_locations.html\")\n",
        "\n",
        "print(\"Heatmap and top locations visualization saved as 'crisis_heatmap_with_top_locations.html'\")"
      ],
      "metadata": {
        "colab": {
          "base_uri": "https://localhost:8080/"
        },
        "id": "dBAWE5iKqvwR",
        "outputId": "8e282634-5e9f-4cb9-e4a2-344caa032ed8"
      },
      "execution_count": 6,
      "outputs": [
        {
          "output_type": "stream",
          "name": "stdout",
          "text": [
            "Heatmap and top locations visualization saved as 'crisis_heatmap_with_top_locations.html'\n"
          ]
        }
      ]
    }
  ]
}